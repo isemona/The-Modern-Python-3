{
 "cells": [
  {
   "cell_type": "markdown",
   "metadata": {},
   "source": [
    "Lucky Number 7\n"
   ]
  },
  {
   "cell_type": "code",
   "execution_count": 4,
   "metadata": {},
   "outputs": [
    {
     "name": "stdout",
     "output_type": "stream",
     "text": [
      "unlucky\n"
     ]
    }
   ],
   "source": [
    "from random import randint\n",
    "choice = randint(1,10)\n",
    "\n",
    "if choice == 7:\n",
    "    print(\"lucky\")\n",
    "else:\n",
    "    print(\"unlucky\")"
   ]
  },
  {
   "cell_type": "markdown",
   "metadata": {},
   "source": [
    "Number is Odd"
   ]
  },
  {
   "cell_type": "code",
   "execution_count": 28,
   "metadata": {},
   "outputs": [
    {
     "name": "stdout",
     "output_type": "stream",
     "text": [
      "Num : 981 is odd\n"
     ]
    }
   ],
   "source": [
    "from random import randint\n",
    "num = randint(1,1000)\n",
    "response = \"\"\n",
    "if num%2==0:\n",
    "    response=\"even\"  \n",
    "else:\n",
    "    response=\"odd\"\n",
    "\n",
    "num_to_string = str(num)\n",
    "print(\"Num : \"+num_to_string+\" is \"+ response)"
   ]
  },
  {
   "cell_type": "code",
   "execution_count": null,
   "metadata": {},
   "outputs": [],
   "source": []
  }
 ],
 "metadata": {
  "kernelspec": {
   "display_name": "Python 3",
   "language": "python",
   "name": "python3"
  },
  "language_info": {
   "codemirror_mode": {
    "name": "ipython",
    "version": 3
   },
   "file_extension": ".py",
   "mimetype": "text/x-python",
   "name": "python",
   "nbconvert_exporter": "python",
   "pygments_lexer": "ipython3",
   "version": "3.7.1"
  }
 },
 "nbformat": 4,
 "nbformat_minor": 2
}
